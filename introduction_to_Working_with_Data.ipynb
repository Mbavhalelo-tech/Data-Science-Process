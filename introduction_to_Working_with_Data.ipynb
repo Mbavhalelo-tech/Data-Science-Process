{
  "nbformat": 4,
  "nbformat_minor": 0,
  "metadata": {
    "colab": {
      "provenance": [],
      "authorship_tag": "ABX9TyP9ndiEIPQxbbjfQ5a3hpCV",
      "include_colab_link": true
    },
    "kernelspec": {
      "name": "python3",
      "display_name": "Python 3"
    },
    "language_info": {
      "name": "python"
    }
  },
  "cells": [
    {
      "cell_type": "markdown",
      "metadata": {
        "id": "view-in-github",
        "colab_type": "text"
      },
      "source": [
        "<a href=\"https://colab.research.google.com/github/Mbavhalelo-tech/Data-Science-Process/blob/main/introduction_to_Working_with_Data.ipynb\" target=\"_parent\"><img src=\"https://colab.research.google.com/assets/colab-badge.svg\" alt=\"Open In Colab\"/></a>"
      ]
    },
    {
      "cell_type": "code",
      "execution_count": 2,
      "metadata": {
        "colab": {
          "base_uri": "https://localhost:8080/"
        },
        "id": "INfNPe4HGqFT",
        "outputId": "1003ecf2-1d82-46e1-9f21-672ebc0737ed"
      },
      "outputs": [
        {
          "output_type": "stream",
          "name": "stdout",
          "text": [
            "Student Scores Dataset:\n",
            "         Name  Math  English  Science\n",
            "0  Mbavhalelo    85       78       92\n",
            "1   Nokubonga    76       82       89\n",
            "2     Mandisa    93       88       84\n",
            "3       David    65       70       72\n",
            "4      Lesego    88       91       95\n"
          ]
        }
      ],
      "source": [
        "import pandas as pd\n",
        "from io import StringIO\n",
        "\n",
        "csv_data = \"\"\"\n",
        "Name,Math,English,Science\n",
        "Mbavhalelo,85,78,92\n",
        "Nokubonga,76,82,89\n",
        "Mandisa,93,88,84\n",
        "David,65,70,72\n",
        "Lesego,88,91,95\n",
        "Frank,74,67,80\n",
        "Grace,90,85,87\n",
        "Harry,68,73,75\n",
        "\"\"\"\n",
        "\n",
        "df = pd.read_csv(StringIO(csv_data))\n",
        "print(\"Student Scores Dataset:\")\n",
        "print(df.head())\n"
      ]
    },
    {
      "cell_type": "markdown",
      "source": [
        "## 2. Calculate the Average Score per Subject"
      ],
      "metadata": {
        "id": "OOa4zFUnHtQo"
      }
    },
    {
      "cell_type": "code",
      "source": [
        "print(\"Average scores by subject:\")\n",
        "print(df[['Math', 'English', 'Science']].mean())\n"
      ],
      "metadata": {
        "colab": {
          "base_uri": "https://localhost:8080/"
        },
        "id": "HMne9qv2HywH",
        "outputId": "07174032-19b0-4cb1-fdd7-bb6d0e839b11"
      },
      "execution_count": 3,
      "outputs": [
        {
          "output_type": "stream",
          "name": "stdout",
          "text": [
            "Average scores by subject:\n",
            "Math       79.875\n",
            "English    79.250\n",
            "Science    84.250\n",
            "dtype: float64\n"
          ]
        }
      ]
    },
    {
      "cell_type": "markdown",
      "source": [
        "## 3. Find the Highest Score in Each Subject"
      ],
      "metadata": {
        "id": "jubQKS4_H-rP"
      }
    },
    {
      "cell_type": "code",
      "source": [
        "print(\"Highest score in each subject:\")\n",
        "print(df[['Math', 'English', 'Science']].max())\n"
      ],
      "metadata": {
        "colab": {
          "base_uri": "https://localhost:8080/"
        },
        "id": "lp2l1BV5IIWX",
        "outputId": "a2f2047b-8465-4dff-fd14-5380181cb8c2"
      },
      "execution_count": 4,
      "outputs": [
        {
          "output_type": "stream",
          "name": "stdout",
          "text": [
            "Highest score in each subject:\n",
            "Math       93\n",
            "English    91\n",
            "Science    95\n",
            "dtype: int64\n"
          ]
        }
      ]
    },
    {
      "cell_type": "markdown",
      "source": [
        "## 4. Identify the Top-Scoring Student in Each Subject"
      ],
      "metadata": {
        "id": "kvhKG3HBIRlf"
      }
    },
    {
      "cell_type": "code",
      "source": [
        "print(\"Top-scoring student in each subject:\")\n",
        "for subject in ['Math', 'English', 'Science']:\n",
        "    top_student = df.loc[df[subject].idxmax()]\n",
        "    print(f\"{subject}: {top_student['Name']} - {top_student[subject]}\")\n"
      ],
      "metadata": {
        "colab": {
          "base_uri": "https://localhost:8080/"
        },
        "id": "7HgBinKkIYOn",
        "outputId": "86b4b74d-24d9-4e6a-ec0f-0c2dcbe41214"
      },
      "execution_count": 5,
      "outputs": [
        {
          "output_type": "stream",
          "name": "stdout",
          "text": [
            "Top-scoring student in each subject:\n",
            "Math: Mandisa - 93\n",
            "English: Lesego - 91\n",
            "Science: Lesego - 95\n"
          ]
        }
      ]
    },
    {
      "cell_type": "markdown",
      "source": [
        "## 5. Calculate Each Student’s Total and Average Score"
      ],
      "metadata": {
        "id": "oSzDzZ6AIfhP"
      }
    },
    {
      "cell_type": "code",
      "source": [
        "df['Total'] = df[['Math', 'English', 'Science']].sum(axis=1)\n",
        "df['Average'] = df[['Math', 'English', 'Science']].mean(axis=1)\n",
        "print(df[['Name', 'Total', 'Average']])\n"
      ],
      "metadata": {
        "colab": {
          "base_uri": "https://localhost:8080/"
        },
        "id": "B2CAoQQVIq5_",
        "outputId": "db5b9df0-ee86-4d28-f47d-f8b041ce47c4"
      },
      "execution_count": 6,
      "outputs": [
        {
          "output_type": "stream",
          "name": "stdout",
          "text": [
            "         Name  Total    Average\n",
            "0  Mbavhalelo    255  85.000000\n",
            "1   Nokubonga    247  82.333333\n",
            "2     Mandisa    265  88.333333\n",
            "3       David    207  69.000000\n",
            "4      Lesego    274  91.333333\n",
            "5       Frank    221  73.666667\n",
            "6       Grace    262  87.333333\n",
            "7       Harry    216  72.000000\n"
          ]
        }
      ]
    }
  ]
}